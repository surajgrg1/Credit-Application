{
 "cells": [
  {
   "cell_type": "code",
   "execution_count": 116,
   "id": "ebf9e2df-5007-4ae8-aa1f-c4bd9ee5bbe2",
   "metadata": {},
   "outputs": [],
   "source": [
    "# import packages\n",
    "#import warnings\n",
    "#warnings.filterwarnings('ignore')\n",
    "\n",
    "import pandas as pd\n",
    "import numpy as np\n",
    "\n",
    "import seaborn as sns\n",
    "import matplotlib.pyplot as plt\n",
    "\n",
    "from sklearn.linear_model import LogisticRegression\n",
    "\n",
    "from sklearn.metrics import accuracy_score, recall_score, precision_score, f1_score\n",
    "from sklearn.metrics import confusion_matrix, classification_report, roc_curve, roc_auc_score\n",
    "from sklearn.metrics import precision_recall_curve, auc, average_precision_score"
   ]
  },
  {
   "cell_type": "code",
   "execution_count": 118,
   "id": "228af162-2da1-4847-8b60-d1f169384275",
   "metadata": {},
   "outputs": [
    {
     "name": "stdout",
     "output_type": "stream",
     "text": [
      "/Users/surajgurung/Library/CloudStorage/OneDrive-UniversityofFlorida/AI&FINtech/CreditApplication\n",
      "['.DS_Store', 'anaconda_projects', 'LendingClub_Decision_Trees_Training_Set.xlsx', 'Logistic_Regression.ipynb', '.ipynb_checkpoints', 'Decision_trees.ipynb', '.git', 'LendingClub_Decision_Trees_Test_Set.xlsx', 'LendingClub_Decision_Trees_Validation_Set.xlsx']\n"
     ]
    }
   ],
   "source": [
    "# Create a working directory\n",
    "import os\n",
    "print(os.getcwd())\n",
    "\n",
    "# Set the working directory\n",
    "os.chdir('/Users/surajgurung/Library/CloudStorage/OneDrive-UniversityofFlorida/AI&FINtech/CreditApplication')\n",
    "\n",
    "# list the name of variables located their\n",
    "print(os.listdir())"
   ]
  },
  {
   "cell_type": "code",
   "execution_count": 120,
   "id": "5e6df2f1-beab-4515-8741-7359b3a7d24f",
   "metadata": {},
   "outputs": [],
   "source": [
    "# Load the dataset\n",
    "train = pd.read_excel('/Users/surajgurung/Library/CloudStorage/OneDrive-UniversityofFlorida/AI&FINtech/CreditApplication/LendingClub_Decision_Trees_Training_Set.xlsx')\n",
    "validation=pd.read_excel('/Users/surajgurung/Library/CloudStorage/OneDrive-UniversityofFlorida/AI&FINtech/CreditApplication/LendingClub_Decision_Trees_Validation_Set.xlsx')\n",
    "test = pd.read_excel('/Users/surajgurung/Library/CloudStorage/OneDrive-UniversityofFlorida/AI&FINtech/CreditApplication/LendingClub_Decision_Trees_Test_Set.xlsx')"
   ]
  },
  {
   "cell_type": "code",
   "execution_count": 121,
   "id": "1e82b1d0-8df2-4809-8f85-61cc8659f804",
   "metadata": {},
   "outputs": [
    {
     "name": "stdout",
     "output_type": "stream",
     "text": [
      "   home_ownership    income    dti  fico  loan_status\n",
      "0               1   44304.0  18.47   690            0\n",
      "1               0   50000.0  29.62   735            1\n",
      "2               0   64400.0  16.68   675            1\n",
      "3               0   38500.0  33.73   660            0\n",
      "4               1  118000.0  26.66   665            1\n",
      "--------------\n",
      "   home_ownership    income    dti  fico  loan_status\n",
      "0               0   25000.0  27.60   660            0\n",
      "1               0   50000.0  21.51   715            1\n",
      "2               1  100000.0   8.14   770            1\n",
      "3               0   75000.0   1.76   685            0\n",
      "4               1   78000.0  16.11   680            1\n",
      "--------------\n",
      "   home_ownership    income    dti  fico  loan_status\n",
      "0               1   52400.0  24.64   665            1\n",
      "1               1  150000.0  17.04   785            1\n",
      "2               1  100000.0  20.92   710            1\n",
      "3               0   97000.0  13.11   705            1\n",
      "4               1  100000.0  24.08   685            0\n",
      "--------------\n"
     ]
    },
    {
     "data": {
      "text/plain": [
       "Index(['home_ownership', 'income', 'dti', 'fico', 'loan_status'], dtype='object')"
      ]
     },
     "execution_count": 121,
     "metadata": {},
     "output_type": "execute_result"
    }
   ],
   "source": [
    "# Note: 1: Good and 0= default\n",
    "print(train.head())\n",
    "print(\"--------------\")\n",
    "print(validation.head())\n",
    "print(\"--------------\")\n",
    "print(test.head())\n",
    "print(\"--------------\")\n",
    "\n",
    "#To check the name of the variables \n",
    "test.columns"
   ]
  },
  {
   "cell_type": "markdown",
   "id": "8f15b971-1f6a-4df0-bde0-2b4a8255271a",
   "metadata": {},
   "source": [
    "The data has already been split into training set, validation set and test set."
   ]
  },
  {
   "cell_type": "code",
   "execution_count": 125,
   "id": "b21c38a2-cfe5-48e0-9bf4-1ac28baaeb57",
   "metadata": {},
   "outputs": [
    {
     "name": "stdout",
     "output_type": "stream",
     "text": [
      "   home_ownership    income       dti      fico\n",
      "0        0.809651 -0.556232  0.053102 -0.163701\n",
      "1       -1.234923 -0.451393  1.307386  1.262539\n",
      "2       -1.234923 -0.186349 -0.148259 -0.639114\n",
      "3       -1.234923 -0.663060  1.769728 -1.114527\n",
      "4        0.809651  0.800204  0.974410 -0.956056\n",
      "--------------------------------\n",
      "   home_ownership    income       dti      fico\n",
      "0       -1.234923 -0.911538  1.080153 -1.114527\n",
      "1       -1.234923 -0.451393  0.395077  0.628655\n",
      "2        0.809651  0.468899 -1.108940  2.371837\n",
      "3       -1.234923  0.008753 -1.826638 -0.322172\n",
      "4        0.809651  0.063971 -0.212379 -0.480643\n",
      "--------------------------------\n",
      "   home_ownership    income       dti      fico\n",
      "0        0.809651 -0.407219  0.747177 -0.956056\n",
      "1        0.809651  1.389190 -0.107762  2.847250\n",
      "2        0.809651  0.468899  0.328707  0.470184\n",
      "3       -1.234923  0.413681 -0.549855  0.311713\n",
      "4        0.809651  0.468899  0.684181 -0.322172\n"
     ]
    }
   ],
   "source": [
    "# remove target column to create feature only dataset\n",
    "X_train = train.drop('loan_status', axis=1)\n",
    "X_val=validation.drop('loan_status', axis=1)\n",
    "X_test = test.drop('loan_status', axis=1)\n",
    "\n",
    "# Scale data using the mean and standard deviation of the training set. \n",
    "# This is not necessary for the simple logistic regression we will do here \n",
    "# but should be done if L1 or L2 regrularization is carried out\n",
    "X_test=(X_test-X_train.mean())/X_train.std()\n",
    "X_val=(X_val-X_train.mean())/X_train.std()\n",
    "X_train=(X_train-X_train.mean())/X_train.std()\n",
    "\n",
    "# store target column as y-variables \n",
    "y_train = train['loan_status']\n",
    "y_val=validation['loan_status']\n",
    "y_test = test['loan_status']\n",
    "\n",
    "#print first five instances for each data set\n",
    "\n",
    "print(X_train.head())\n",
    "print(\"--------------------------------\")\n",
    "print(X_val.head())\n",
    "print(\"--------------------------------\")\n",
    "print(X_test.head())"
   ]
  },
  {
   "cell_type": "code",
   "execution_count": 127,
   "id": "b31705c1-9b2c-454c-b335-6fbe65a4e62e",
   "metadata": {},
   "outputs": [
    {
     "name": "stdout",
     "output_type": "stream",
     "text": [
      "(7000, 4) (7000,) (3000, 4) (3000,) (2290, 4) (2290,)\n"
     ]
    },
    {
     "data": {
      "text/plain": [
       "Index(['home_ownership', 'income', 'dti', 'fico'], dtype='object')"
      ]
     },
     "execution_count": 127,
     "metadata": {},
     "output_type": "execute_result"
    }
   ],
   "source": [
    "print(X_train.shape, y_train.shape, X_val.shape,y_val.shape, X_test.shape, y_test.shape)\n",
    "X_train.columns"
   ]
  },
  {
   "cell_type": "code",
   "execution_count": 129,
   "id": "e7991fe1-5711-4564-bb6a-a9ff6d178a83",
   "metadata": {},
   "outputs": [
    {
     "data": {
      "text/plain": [
       "loan_status\n",
       "1    79.171429\n",
       "0    20.828571\n",
       "Name: count, dtype: float64"
      ]
     },
     "execution_count": 129,
     "metadata": {},
     "output_type": "execute_result"
    }
   ],
   "source": [
    "freq = y_train.value_counts()           # count frequency of different classes in training set\n",
    "freq/sum(freq)*100                      # get percentage of above"
   ]
  },
  {
   "cell_type": "markdown",
   "id": "a8b6761f-c0fd-45d0-b049-ed7bdca42aa3",
   "metadata": {},
   "source": [
    "This shows that 79.17% do not default on their loan, whereas 20.82% actually default on their loan amount."
   ]
  },
  {
   "cell_type": "code",
   "execution_count": 132,
   "id": "5390acff-70ec-46d5-8b88-d054cd183192",
   "metadata": {},
   "outputs": [
    {
     "name": "stdout",
     "output_type": "stream",
     "text": [
      "[1.41622043] [[ 0.14529381  0.03361951 -0.32404237  0.363174  ]]\n"
     ]
    }
   ],
   "source": [
    "#Create an ionstance of logisticregression named lgstc_reg \n",
    "\n",
    "lgstc_reg =  LogisticRegression(penalty=None,solver=\"newton-cg\")     # Penalty none mean no regularization\n",
    "\n",
    "# Fit logististic regression to training set\n",
    "\n",
    "lgstc_reg.fit(X_train, y_train)                                        # fit training data on logistic regression \n",
    "\n",
    "\n",
    "print(lgstc_reg.intercept_, lgstc_reg.coef_)     # get the coefficients of each features"
   ]
  },
  {
   "cell_type": "markdown",
   "id": "fdbd99ba-bc0a-48d7-a776-ace449aa7602",
   "metadata": {},
   "source": [
    "These results show that we have a bias of 1.416 and coefficients are 0.145, 0.034, -0.32, and 0.363, respectively, for the 4 features.\n",
    "Now we will test the model with the validation set."
   ]
  },
  {
   "cell_type": "code",
   "execution_count": 135,
   "id": "2ff3c29b-9bba-4312-87da-2dfd68fd4cbc",
   "metadata": {},
   "outputs": [
    {
     "name": "stdout",
     "output_type": "stream",
     "text": [
      "Index(['home_ownership', 'income', 'dti', 'fico'], dtype='object')\n",
      "Index(['home_ownership', 'income', 'dti', 'fico'], dtype='object')\n"
     ]
    }
   ],
   "source": [
    "print(X_train.columns)\n",
    "print(X_val.columns)"
   ]
  },
  {
   "cell_type": "code",
   "execution_count": 137,
   "id": "2657893f-ace4-4a5f-8fbb-3f17a0222db4",
   "metadata": {},
   "outputs": [
    {
     "name": "stdout",
     "output_type": "stream",
     "text": [
      "cost function training set = 0.4911114356066864\n",
      "cost function validation set = 0.48607087962794676\n",
      "cost function test set = 0.48466984479475056\n"
     ]
    }
   ],
   "source": [
    "# y_train_pred, y_val_pred, and y_test_pred are the predicted probabilities for the training set\n",
    "# validation set and test set using the fitted logistic regression model\n",
    "\n",
    "y_train_pred=lgstc_reg.predict_proba(X_train)\n",
    "y_val_pred=lgstc_reg.predict_proba(X_val)\n",
    "y_test_pred=lgstc_reg.predict_proba(X_test)\n",
    "\n",
    "# Calculate maximum likelihood for training set, validation set, and test set\n",
    "\n",
    "mle_vector_train = np.log(np.where(y_train == 1, y_train_pred[:,1], y_train_pred[:,0]))\n",
    "mle_vector_val = np.log(np.where(y_val == 1, y_val_pred[:,1], y_val_pred[:,0]))\n",
    "mle_vector_test = np.log(np.where(y_test == 1, y_test_pred[:,1], y_test_pred[:,0]))\n",
    "\n",
    "# Calculate cost functions from maximum likelihoods\n",
    "\n",
    "cost_function_training=np.negative(np.sum(mle_vector_train)/len(y_train))\n",
    "cost_function_val=np.negative(np.sum(mle_vector_val)/len(y_val))\n",
    "cost_function_test=np.negative(np.sum(mle_vector_test)/len(y_test))\n",
    "\n",
    "print('cost function training set =', cost_function_training)\n",
    "print('cost function validation set =', cost_function_val)\n",
    "print('cost function test set =', cost_function_test)"
   ]
  },
  {
   "cell_type": "markdown",
   "id": "ecd21684-44b9-4bbf-9de7-51ec9786f66d",
   "metadata": {},
   "source": [
    "An analyst must decide on a criterion for predicting whether loan will be good or default. This involves specifying a threshold By default this threshold is set to 0.5, i.e., loans are separated into good and bad categories according to whether the probability of no default is greater or less than 0.5. However this does not work well for an imbalanced data set such as this. It would predict that all loans are good! We will look at the results for few other thresholds."
   ]
  },
  {
   "cell_type": "markdown",
   "id": "b9f4b071-55f9-42e9-869b-984db4831a26",
   "metadata": {},
   "source": [
    "Note: Cost function refer to the MSE which measures the difference between predicted probabilities and actual class labels."
   ]
  },
  {
   "cell_type": "code",
   "execution_count": 143,
   "id": "8a555718-933a-49a0-bc8d-2c771103d9a3",
   "metadata": {},
   "outputs": [
    {
     "name": "stdout",
     "output_type": "stream",
     "text": [
      "Confusion matrix for threshold = 0.75\n",
      "[[60.82969432 18.34061135]\n",
      " [11.70305677  9.12663755]]\n",
      " \n",
      "Confusion matrix for threshold = 0.8\n",
      "[[42.70742358 36.4628821 ]\n",
      " [ 6.4628821  14.36681223]]\n",
      " \n",
      "Confusion matrix for threshold = 0.85\n",
      "[[22.7510917  56.41921397]\n",
      " [ 3.01310044 17.81659389]]\n",
      " \n",
      "ALL METRICS\n",
      "                       0         1         2\n",
      "THRESHOLD           0.75       0.8      0.85\n",
      "accuracy        0.699563  0.570742  0.405677\n",
      "true pos rate    0.76834  0.539437  0.287369\n",
      "true neg rate   0.438155  0.689727  0.855346\n",
      "false pos rate  0.561845  0.310273  0.144654\n",
      "precision       0.838651  0.868561  0.883051\n",
      "f-score         0.801957  0.665532  0.433625\n"
     ]
    }
   ],
   "source": [
    "# Setting the loan default  across various threshold level\n",
    "THRESHOLD = [.75, .80, .85]\n",
    "# Create dataframe to store resultd\n",
    "results = pd.DataFrame(columns=[\"THRESHOLD\", \"accuracy\", \"true pos rate\", \"true neg rate\", \"false pos rate\", \"precision\", \"f-score\"]) # df to store results\n",
    "\n",
    "# Create threshold row\n",
    "results['THRESHOLD'] = THRESHOLD                                                                         \n",
    "             \n",
    "j = 0                                                                                                      \n",
    "\n",
    "# Iterate over the 3 thresholds\n",
    "\n",
    "for i in THRESHOLD:                                                                                       \n",
    "    \n",
    "    \n",
    "    #lgstc_reg.fit(X_train, y_train)                                                                    \n",
    "    \n",
    "    \n",
    "    # If prob for test set > threshold predict 1\n",
    "    preds = np.where(lgstc_reg.predict_proba(X_test)[:,1] > i, 1, 0)                                      \n",
    "    \n",
    "    \n",
    "    # create confusion matrix \n",
    "    cm = (confusion_matrix(y_test, preds,labels=[1, 0], sample_weight=None) / len(y_test))*100                   # confusion matrix (in percentage)\n",
    "    \n",
    "    print('Confusion matrix for threshold =',i)\n",
    "    print(cm)\n",
    "    print(' ')      \n",
    "    \n",
    "    TP = cm[0][0]                                                                                          # True Positives\n",
    "    FN = cm[0][1]                                                                                          # False Positives\n",
    "    FP = cm[1][0]                                                                                          # True Negatives\n",
    "    TN = cm[1][1]                                                                                          # False Negatives\n",
    "        \n",
    "    results.iloc[j,1] = accuracy_score(y_test, preds) \n",
    "    results.iloc[j,2] = recall_score(y_test, preds)\n",
    "    results.iloc[j,3] = TN/(FP+TN)                                                                         # True negative rate\n",
    "    results.iloc[j,4] = FP/(FP+TN)                                                                         # False positive rate\n",
    "    results.iloc[j,5] = precision_score(y_test, preds)\n",
    "    results.iloc[j,6] = f1_score(y_test, preds)\n",
    "   \n",
    "   \n",
    "    j += 1\n",
    "\n",
    "print('ALL METRICS')\n",
    "print( results.T)"
   ]
  },
  {
   "cell_type": "markdown",
   "id": "c849aa82-e3e4-449c-9dd0-fae373e01850",
   "metadata": {},
   "source": [
    "This table shows that there is a trade off betwee the true positive rate and the false positive rate.\n",
    "We can improve the percentage of good loans we identify only by increasing the percentage of bad that are misclassified. The receiver operating curve (ROC) captures this trade off by considering different thresholds."
   ]
  },
  {
   "cell_type": "markdown",
   "id": "056f5e16-25d9-4b0e-814b-324d3f582ed8",
   "metadata": {},
   "source": [
    "There is a trade-off between identifying more good loans (high recall) and avoiding bad ones (low FPR).\n",
    "\t•\tIf you want to approve more good loans, you must tolerate more risk (more false positives).\n",
    "\t•\tIf you want to minimize bad approvals, you will sacrifice approving some good ones.\n",
    "\n",
    "This is exactly what the ROC curve illustrates: the balance between TPR and FPR at different thresholds.\n",
    "\n",
    "(Accuracy is highest at Z=0.75 but decreases as Z increases.)"
   ]
  },
  {
   "cell_type": "code",
   "execution_count": 146,
   "id": "91f557d5-1bee-446f-858a-f4f163d3156e",
   "metadata": {},
   "outputs": [
    {
     "name": "stdout",
     "output_type": "stream",
     "text": [
      "AUC random predictions = 0.5\n",
      "AUC predictions from logistic regression model = 0.6577663531841429\n"
     ]
    },
    {
     "data": {
      "image/png": "[encoded data removed]",
      "text/plain": [
       "<Figure size 640x480 with 1 Axes>"
      ]
     },
     "metadata": {},
     "output_type": "display_data"
    }
   ],
   "source": [
    "# Calculate the receiver operating curve and the AUC measure\n",
    "\n",
    "lr_prob=lgstc_reg.predict_proba(X_test)\n",
    "lr_prob=lr_prob[:, 1]\n",
    "ns_prob=[0 for _ in range(len(y_test))]\n",
    "ns_auc=roc_auc_score(y_test, ns_prob)\n",
    "lr_auc=roc_auc_score(y_test,lr_prob)\n",
    "print(\"AUC random predictions =\", ns_auc)\n",
    "print(\"AUC predictions from logistic regression model =\", lr_auc)\n",
    "ns_fpr,ns_tpr,_=roc_curve(y_test,ns_prob)\n",
    "lr_fpr,lr_tpr,_=roc_curve(y_test,lr_prob)\n",
    "\n",
    "plt.plot(ns_fpr,ns_tpr,linestyle='--',label='Random Predction')\n",
    "plt.plot(lr_fpr,lr_tpr,marker='.',label='Logistic Regression')\n",
    "\n",
    "plt.xlabel('False Positive Rate')\n",
    "plt.ylabel('True Positive Rate')\n",
    "plt.legend()\n",
    "plt.show()"
   ]
  }
 ],
 "metadata": {
  "kernelspec": {
   "display_name": "Python [conda env:base] *",
   "language": "python",
   "name": "conda-base-py"
  },
  "language_info": {
   "codemirror_mode": {
    "name": "ipython",
    "version": 3
   },
   "file_extension": ".py",
   "mimetype": "text/x-python",
   "name": "python",
   "nbconvert_exporter": "python",
   "pygments_lexer": "ipython3",
   "version": "3.11.7"
  }
 },
 "nbformat": 4,
 "nbformat_minor": 5
}
