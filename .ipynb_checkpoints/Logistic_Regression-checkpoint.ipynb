{
 "cells": [
  {
   "cell_type": "code",
   "execution_count": 74,
   "id": "ebf9e2df-5007-4ae8-aa1f-c4bd9ee5bbe2",
   "metadata": {},
   "outputs": [],
   "source": [
    "# import packages\n",
    "#import warnings\n",
    "#warnings.filterwarnings('ignore')\n",
    "\n",
    "import pandas as pd\n",
    "import numpy as np\n",
    "\n",
    "import seaborn as sns\n",
    "import matplotlib.pyplot as plt\n",
    "\n",
    "from sklearn.linear_model import LogisticRegression\n",
    "\n",
    "from sklearn.metrics import accuracy_score, recall_score, precision_score, f1_score\n",
    "from sklearn.metrics import confusion_matrix, classification_report, roc_curve, roc_auc_score\n",
    "from sklearn.metrics import precision_recall_curve, auc, average_precision_score"
   ]
  },
  {
   "cell_type": "code",
   "execution_count": 76,
   "id": "228af162-2da1-4847-8b60-d1f169384275",
   "metadata": {},
   "outputs": [
    {
     "name": "stdout",
     "output_type": "stream",
     "text": [
      "/Users/surajgurung/Library/CloudStorage/OneDrive-UniversityofFlorida/AI&FINtech/CreditApplication\n",
      "['.DS_Store', 'anaconda_projects', 'LendingClub_Decision_Trees_Training_Set.xlsx', 'Logistic_Regression.ipynb', '.ipynb_checkpoints', 'Decision_trees.ipynb', '.git', 'LendingClub_Decision_Trees_Test_Set.xlsx', 'LendingClub_Decision_Trees_Validation_Set.xlsx']\n"
     ]
    }
   ],
   "source": [
    "# Create a working directory\n",
    "import os\n",
    "print(os.getcwd())\n",
    "\n",
    "# Set the working directory\n",
    "os.chdir('/Users/surajgurung/Library/CloudStorage/OneDrive-UniversityofFlorida/AI&FINtech/CreditApplication')\n",
    "\n",
    "# list the name of variables located their\n",
    "print(os.listdir())"
   ]
  },
  {
   "cell_type": "code",
   "execution_count": 78,
   "id": "5e6df2f1-beab-4515-8741-7359b3a7d24f",
   "metadata": {},
   "outputs": [],
   "source": [
    "# Load the dataset\n",
    "train = pd.read_excel('/Users/surajgurung/Library/CloudStorage/OneDrive-UniversityofFlorida/AI&FINtech/CreditApplication/LendingClub_Decision_Trees_Training_Set.xlsx')\n",
    "validation=pd.read_excel('/Users/surajgurung/Library/CloudStorage/OneDrive-UniversityofFlorida/AI&FINtech/CreditApplication/LendingClub_Decision_Trees_Validation_Set.xlsx')\n",
    "test = pd.read_excel('/Users/surajgurung/Library/CloudStorage/OneDrive-UniversityofFlorida/AI&FINtech/CreditApplication/LendingClub_Decision_Trees_Test_Set.xlsx')"
   ]
  },
  {
   "cell_type": "code",
   "execution_count": 80,
   "id": "1e82b1d0-8df2-4809-8f85-61cc8659f804",
   "metadata": {},
   "outputs": [
    {
     "name": "stdout",
     "output_type": "stream",
     "text": [
      "   home_ownership    income    dti  fico  loan_status\n",
      "0               1   44304.0  18.47   690            0\n",
      "1               0   50000.0  29.62   735            1\n",
      "2               0   64400.0  16.68   675            1\n",
      "3               0   38500.0  33.73   660            0\n",
      "4               1  118000.0  26.66   665            1\n",
      "--------------\n",
      "   homw_ownership    income    dti  fico  loan_status\n",
      "0               0   25000.0  27.60   660            0\n",
      "1               0   50000.0  21.51   715            1\n",
      "2               1  100000.0   8.14   770            1\n",
      "3               0   75000.0   1.76   685            0\n",
      "4               1   78000.0  16.11   680            1\n",
      "--------------\n",
      "   home_ownership    income    dti  fico  loan_status\n",
      "0               1   52400.0  24.64   665            1\n",
      "1               1  150000.0  17.04   785            1\n",
      "2               1  100000.0  20.92   710            1\n",
      "3               0   97000.0  13.11   705            1\n",
      "4               1  100000.0  24.08   685            0\n",
      "--------------\n"
     ]
    },
    {
     "data": {
      "text/plain": [
       "Index(['home_ownership', 'income', 'dti', 'fico', 'loan_status'], dtype='object')"
      ]
     },
     "execution_count": 80,
     "metadata": {},
     "output_type": "execute_result"
    }
   ],
   "source": [
    "# Note: 1: Good and 0= default\n",
    "print(train.head())\n",
    "print(\"--------------\")\n",
    "print(validation.head())\n",
    "print(\"--------------\")\n",
    "print(test.head())\n",
    "print(\"--------------\")\n",
    "\n",
    "#To check the name of the variables \n",
    "test.columns"
   ]
  },
  {
   "cell_type": "markdown",
   "id": "8f15b971-1f6a-4df0-bde0-2b4a8255271a",
   "metadata": {},
   "source": [
    "The data has already been split into training set, validation set and test set."
   ]
  },
  {
   "cell_type": "code",
   "execution_count": 82,
   "id": "b21c38a2-cfe5-48e0-9bf4-1ac28baaeb57",
   "metadata": {},
   "outputs": [
    {
     "name": "stdout",
     "output_type": "stream",
     "text": [
      "   home_ownership    income       dti      fico\n",
      "0        0.809651 -0.556232  0.053102 -0.163701\n",
      "1       -1.234923 -0.451393  1.307386  1.262539\n",
      "2       -1.234923 -0.186349 -0.148259 -0.639114\n",
      "3       -1.234923 -0.663060  1.769728 -1.114527\n",
      "4        0.809651  0.800204  0.974410 -0.956056\n",
      "--------------------------------\n",
      "        dti      fico  home_ownership  homw_ownership    income\n",
      "0  1.080153 -1.114527             NaN             NaN -0.911538\n",
      "1  0.395077  0.628655             NaN             NaN -0.451393\n",
      "2 -1.108940  2.371837             NaN             NaN  0.468899\n",
      "3 -1.826638 -0.322172             NaN             NaN  0.008753\n",
      "4 -0.212379 -0.480643             NaN             NaN  0.063971\n",
      "--------------------------------\n",
      "   home_ownership    income       dti      fico\n",
      "0        0.809651 -0.407219  0.747177 -0.956056\n",
      "1        0.809651  1.389190 -0.107762  2.847250\n",
      "2        0.809651  0.468899  0.328707  0.470184\n",
      "3       -1.234923  0.413681 -0.549855  0.311713\n",
      "4        0.809651  0.468899  0.684181 -0.322172\n"
     ]
    }
   ],
   "source": [
    "# remove target column to create feature only dataset\n",
    "X_train = train.drop('loan_status', axis=1)\n",
    "X_val=validation.drop('loan_status', axis=1)\n",
    "X_test = test.drop('loan_status', axis=1)\n",
    "\n",
    "# Scale data using the mean and standard deviation of the training set. \n",
    "# This is not necessary for the simple logistic regression we will do here \n",
    "# but should be done if L1 or L2 regrularization is carried out\n",
    "X_test=(X_test-X_train.mean())/X_train.std()\n",
    "X_val=(X_val-X_train.mean())/X_train.std()\n",
    "X_train=(X_train-X_train.mean())/X_train.std()\n",
    "\n",
    "# store target column as y-variables \n",
    "y_train = train['loan_status']\n",
    "y_val=validation['loan_status']\n",
    "y_test = test['loan_status']\n",
    "\n",
    "#print first five instances for each data set\n",
    "\n",
    "print(X_train.head())\n",
    "print(\"--------------------------------\")\n",
    "print(X_val.head())\n",
    "print(\"--------------------------------\")\n",
    "print(X_test.head())"
   ]
  },
  {
   "cell_type": "code",
   "execution_count": 84,
   "id": "b31705c1-9b2c-454c-b335-6fbe65a4e62e",
   "metadata": {},
   "outputs": [
    {
     "name": "stdout",
     "output_type": "stream",
     "text": [
      "(7000, 4) (7000,) (3000, 5) (3000,) (2290, 4) (2290,)\n"
     ]
    },
    {
     "data": {
      "text/plain": [
       "Index(['home_ownership', 'income', 'dti', 'fico'], dtype='object')"
      ]
     },
     "execution_count": 84,
     "metadata": {},
     "output_type": "execute_result"
    }
   ],
   "source": [
    "print(X_train.shape, y_train.shape, X_val.shape,y_val.shape, X_test.shape, y_test.shape)\n",
    "X_train.columns"
   ]
  },
  {
   "cell_type": "code",
   "execution_count": 86,
   "id": "e7991fe1-5711-4564-bb6a-a9ff6d178a83",
   "metadata": {},
   "outputs": [
    {
     "data": {
      "text/plain": [
       "loan_status\n",
       "1    79.171429\n",
       "0    20.828571\n",
       "Name: count, dtype: float64"
      ]
     },
     "execution_count": 86,
     "metadata": {},
     "output_type": "execute_result"
    }
   ],
   "source": [
    "freq = y_train.value_counts()           # count frequency of different classes in training set\n",
    "freq/sum(freq)*100                      # get percentage of above"
   ]
  },
  {
   "cell_type": "markdown",
   "id": "a8b6761f-c0fd-45d0-b049-ed7bdca42aa3",
   "metadata": {},
   "source": [
    "This shows that 79.17% do not default on their loan, whereas 20.82% actually default on their loan amount."
   ]
  },
  {
   "cell_type": "code",
   "execution_count": 90,
   "id": "5390acff-70ec-46d5-8b88-d054cd183192",
   "metadata": {},
   "outputs": [
    {
     "name": "stdout",
     "output_type": "stream",
     "text": [
      "[1.41622043] [[ 0.14529381  0.03361951 -0.32404237  0.363174  ]]\n"
     ]
    }
   ],
   "source": [
    "#Create an ionstance of logisticregression named lgstc_reg \n",
    "\n",
    "lgstc_reg =  LogisticRegression(penalty=None,solver=\"newton-cg\")     # Penalty none mean no regularization\n",
    "\n",
    "# Fit logististic regression to training set\n",
    "\n",
    "lgstc_reg.fit(X_train, y_train)                                        # fit training data on logistic regression \n",
    "\n",
    "\n",
    "print(lgstc_reg.intercept_, lgstc_reg.coef_)     # get the coefficients of each features"
   ]
  },
  {
   "cell_type": "markdown",
   "id": "fdbd99ba-bc0a-48d7-a776-ace449aa7602",
   "metadata": {},
   "source": [
    "These results show that we have a bias of 1.416 and coefficients are 0.145, 0.034, -0.32, and 0.363, respectively, for the 4 features.\n",
    "Now we will test the model with the validation set."
   ]
  },
  {
   "cell_type": "code",
   "execution_count": null,
   "id": "2657893f-ace4-4a5f-8fbb-3f17a0222db4",
   "metadata": {},
   "outputs": [],
   "source": []
  }
 ],
 "metadata": {
  "kernelspec": {
   "display_name": "Python [conda env:base] *",
   "language": "python",
   "name": "conda-base-py"
  },
  "language_info": {
   "codemirror_mode": {
    "name": "ipython",
    "version": 3
   },
   "file_extension": ".py",
   "mimetype": "text/x-python",
   "name": "python",
   "nbconvert_exporter": "python",
   "pygments_lexer": "ipython3",
   "version": "3.11.7"
  }
 },
 "nbformat": 4,
 "nbformat_minor": 5
}
